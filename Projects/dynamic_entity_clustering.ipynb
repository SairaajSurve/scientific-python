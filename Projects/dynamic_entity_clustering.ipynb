{
 "cells": [
  {
   "cell_type": "code",
   "execution_count": 1,
   "metadata": {},
   "outputs": [],
   "source": [
    "import numpy as np\n",
    "import pandas as pd\n",
    "from difflib import SequenceMatcher"
   ]
  },
  {
   "cell_type": "code",
   "execution_count": 78,
   "metadata": {},
   "outputs": [],
   "source": [
    "class Clustering():\n",
    "    def __init__(self, num_of_means, schema):\n",
    "        self.num_of_means = num_of_means\n",
    "        self.data = []\n",
    "        self.schema = schema # [[Name, Type]]\n",
    "\n",
    "    def updateData(self, row):\n",
    "        self.data.append(row)\n",
    "\n",
    "    def generateDistanceMatrix(self,f,type):\n",
    "        D = np.zeros((len(self.data), len(self.data)))\n",
    "        if type == \"INTERVAL\":\n",
    "            high = self.data[0][f] \n",
    "            low = self.data[0][f] \n",
    "            for i in range(1, len(self.data)):\n",
    "                high = max(high, self.data[i][f])\n",
    "                low = min(low, self.data[i][f])\n",
    "            for i in range(len(self.data)):\n",
    "                for j in range(len(self.data)):\n",
    "                    D[i][j] = np.abs(self.data[i][f] - self.data[j][f])/(high-low)\n",
    "        elif type == \"RATIO\":\n",
    "            for i in range(len(self.data)):\n",
    "                for j in range(len(self.data)):\n",
    "                    D[i][j] = np.abs(np.log10(self.data[i][f]) - np.log10(self.data[j][f]))\n",
    "        elif type == \"NOMINAL\":\n",
    "            for i in range(len(self.data)):\n",
    "                for j in range(len(self.data)):\n",
    "                    D[i][j] = 1 - SequenceMatcher(None, self.data[i][f], self.data[j][f]).ratio()\n",
    "        elif type == \"BINARY SYMMETRIC\":\n",
    "            for i in range(len(self.data)):\n",
    "                for j in range(len(self.data)):\n",
    "                    if self.data[i][f] != self.data[j][f]:\n",
    "                        D[i][j] = 1\n",
    "        elif type == \"BINARY ASYMMETRIC\":\n",
    "            for i in range(len(self.data)):\n",
    "                for j in range(len(self.data)):\n",
    "                    if self.data[i][f] != self.data[j][f]:\n",
    "                        D[i][j] = 1\n",
    "        elif type == \"ORDINAL\":\n",
    "            Mf = self.data[0][f]\n",
    "            for i in range(1, len(self.data)):\n",
    "                Mf = max(Mf, self.data[i][f])\n",
    "            for i in range(len(self.data)):\n",
    "                for j in range(len(self.data)):\n",
    "                    zif = (self.data[i][f]-1)/(Mf-1)\n",
    "                    zjf = (self.data[j][f]-1)/(Mf-1)\n",
    "                    D[i][j] = np.abs(zif - zjf)\n",
    "        return D\n",
    "\n",
    "    def generateMixedMatrix(self, attr_idxs):\n",
    "        DFULL = []\n",
    "        D = np.zeros((len(self.data), len(self.data)))\n",
    "        for i in range(len(attr_idxs)):\n",
    "            DFULL.append(self.generateDistanceMatrix(attr_idxs[i], self.schema[attr_idxs[i]][1]))\n",
    "        for i in range(len(self.data)):\n",
    "            for j in range(len(self.data)):\n",
    "                num = 0\n",
    "                den = 0\n",
    "                for f in range(len(attr_idxs)):\n",
    "                    if not (self.schema[attr_idxs[f]][1] == \"BINARY ASYMMETRIC\" and self.data[i][attr_idxs[f]] == self.data[j][attr_idxs[f]] == 0):\n",
    "                        num += DFULL[f][i][j]\n",
    "                        den += 1\n",
    "                if den != 0:\n",
    "                    D[i][j] = num/den\n",
    "        return D\n"
   ]
  }
 ],
 "metadata": {
  "kernelspec": {
   "display_name": "Python 3",
   "language": "python",
   "name": "python3"
  },
  "language_info": {
   "codemirror_mode": {
    "name": "ipython",
    "version": 3
   },
   "file_extension": ".py",
   "mimetype": "text/x-python",
   "name": "python",
   "nbconvert_exporter": "python",
   "pygments_lexer": "ipython3",
   "version": "3.10.8"
  },
  "orig_nbformat": 4,
  "vscode": {
   "interpreter": {
    "hash": "5d50a6c465b30638282eab4bf928a91781f77c490aac1f6912f323b30ec812af"
   }
  }
 },
 "nbformat": 4,
 "nbformat_minor": 2
}
