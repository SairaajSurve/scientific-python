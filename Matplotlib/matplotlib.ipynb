{
 "cells": [
  {
   "cell_type": "code",
   "execution_count": null,
   "id": "af96b096",
   "metadata": {},
   "outputs": [],
   "source": [
    "import numpy as np\n",
    "import matplotlib.pyplot as plt"
   ]
  },
  {
   "cell_type": "code",
   "execution_count": null,
   "id": "8ee33c33",
   "metadata": {},
   "outputs": [],
   "source": [
    "plt.style.use(['science', 'notebook', 'grid'])"
   ]
  },
  {
   "cell_type": "markdown",
   "id": "55d17b57",
   "metadata": {},
   "source": [
    "## Line plots"
   ]
  },
  {
   "cell_type": "code",
   "execution_count": null,
   "id": "85b9cd2b",
   "metadata": {},
   "outputs": [],
   "source": [
    "x = np.linspace(0, 15, 30)\n",
    "y = np.sin(x) + 0.1*np.random.randn(len(x))"
   ]
  },
  {
   "cell_type": "markdown",
   "id": "36f0d685",
   "metadata": {},
   "source": [
    "### Line style"
   ]
  },
  {
   "cell_type": "code",
   "execution_count": null,
   "id": "de4f7fe2",
   "metadata": {},
   "outputs": [],
   "source": [
    "plt.plot(x, y)"
   ]
  },
  {
   "cell_type": "code",
   "execution_count": null,
   "id": "a6beb12f",
   "metadata": {},
   "outputs": [],
   "source": [
    "plt.plot(x, y, '--')"
   ]
  },
  {
   "cell_type": "code",
   "execution_count": null,
   "id": "9ca07040",
   "metadata": {},
   "outputs": [],
   "source": [
    "plt.plot(x, y, 'o-')"
   ]
  },
  {
   "cell_type": "code",
   "execution_count": null,
   "id": "90a399ed",
   "metadata": {},
   "outputs": [],
   "source": [
    "plt.plot(x, y, 'o--')"
   ]
  },
  {
   "cell_type": "code",
   "execution_count": null,
   "id": "ca0f6f43",
   "metadata": {},
   "outputs": [],
   "source": [
    "plt.plot(x, y, 'o')"
   ]
  },
  {
   "cell_type": "code",
   "execution_count": null,
   "id": "20e5a680",
   "metadata": {},
   "outputs": [],
   "source": [
    "plt.plot(x, y, 'o--', color='purple', lw=0.7, ms=10)\n",
    "# lw = linewidrh\n",
    "# ms = markersize"
   ]
  },
  {
   "cell_type": "markdown",
   "id": "1b8bb324",
   "metadata": {},
   "source": [
    "### Figure size"
   ]
  },
  {
   "cell_type": "code",
   "execution_count": null,
   "id": "f917c945",
   "metadata": {},
   "outputs": [],
   "source": [
    "plt.figure(figsize=(8,3))\n",
    "plt.plot(x, y, 'o--', color='purple', lw=0.7, ms=10)"
   ]
  },
  {
   "cell_type": "markdown",
   "id": "2719b215",
   "metadata": {},
   "source": [
    "### Labels"
   ]
  },
  {
   "cell_type": "code",
   "execution_count": null,
   "id": "e6adfce4",
   "metadata": {},
   "outputs": [],
   "source": [
    "plt.figure(figsize=(8,3))\n",
    "plt.plot(x, y, 'o--', color='purple', lw=0.7, ms=10)\n",
    "plt.ylabel('Voltage [V]')\n",
    "plt.xlabel('Time [t]')"
   ]
  },
  {
   "cell_type": "markdown",
   "id": "fe890447",
   "metadata": {},
   "source": [
    "### Legend"
   ]
  },
  {
   "cell_type": "code",
   "execution_count": null,
   "id": "b236b172",
   "metadata": {},
   "outputs": [],
   "source": [
    "plt.figure(figsize=(10,3))\n",
    "plt.plot(x, y, 'o--', color='purple', lw=0.7, ms=10, label='Component 1')\n",
    "plt.ylabel('Voltage [V]')\n",
    "plt.xlabel('Time [t]')\n",
    "plt.legend(loc='upper right', fontsize=10)"
   ]
  },
  {
   "cell_type": "code",
   "execution_count": null,
   "id": "ee6a9f97",
   "metadata": {},
   "outputs": [],
   "source": [
    "y2 = np.sin(x)\n",
    "\n",
    "plt.figure(figsize=(10,3))\n",
    "plt.plot(x, y, 'o--', color='purple', lw=0.7, ms=10, label='Component 1')\n",
    "plt.plot(x, y2, '-', color='green', lw=0.7, ms=10, label='Component 2')\n",
    "plt.ylabel('Voltage [V]')\n",
    "plt.xlabel('Time [t]')\n",
    "plt.legend(loc='upper right', fontsize=10)"
   ]
  },
  {
   "cell_type": "markdown",
   "id": "95a3439e",
   "metadata": {},
   "source": [
    "### Limits"
   ]
  },
  {
   "cell_type": "code",
   "execution_count": null,
   "id": "03a64c1b",
   "metadata": {},
   "outputs": [],
   "source": [
    "y2 = np.sin(x)\n",
    "\n",
    "plt.figure(figsize=(10,3))\n",
    "plt.plot(x, y, 'o--', color='purple', lw=0.7, ms=10, label='Component 1')\n",
    "plt.plot(x, y2, '-', color='green', lw=0.7, ms=10, label='Component 2')\n",
    "plt.ylabel('Voltage [V]')\n",
    "plt.xlabel('Time [t]')\n",
    "plt.ylim(top=2)\n",
    "plt.legend(loc='upper right', fontsize=10, ncol=2)"
   ]
  },
  {
   "cell_type": "markdown",
   "id": "ed61859d",
   "metadata": {},
   "source": [
    "## Histograms"
   ]
  },
  {
   "cell_type": "code",
   "execution_count": null,
   "id": "484d752b",
   "metadata": {},
   "outputs": [],
   "source": [
    "res = np.random.randn(1000)*0.2 + 0.4"
   ]
  },
  {
   "cell_type": "markdown",
   "id": "cb7b7a0a",
   "metadata": {},
   "source": [
    "### Histgram object"
   ]
  },
  {
   "cell_type": "code",
   "execution_count": null,
   "id": "f8cbada2",
   "metadata": {},
   "outputs": [],
   "source": [
    "a = plt.hist(res)"
   ]
  },
  {
   "cell_type": "code",
   "execution_count": null,
   "id": "295d5bb1",
   "metadata": {},
   "outputs": [],
   "source": [
    "print(a)"
   ]
  },
  {
   "cell_type": "markdown",
   "id": "5bbeb988",
   "metadata": {},
   "source": [
    "### Bins"
   ]
  },
  {
   "cell_type": "code",
   "execution_count": null,
   "id": "2d8b4f70",
   "metadata": {},
   "outputs": [],
   "source": [
    "plt.hist(res, bins=30)\n",
    "plt.show()"
   ]
  },
  {
   "cell_type": "markdown",
   "id": "4eacc13c",
   "metadata": {},
   "source": [
    "### Normalized"
   ]
  },
  {
   "cell_type": "code",
   "execution_count": null,
   "id": "07062e8e",
   "metadata": {},
   "outputs": [],
   "source": [
    "plt.hist(res, bins=30, density=True)\n",
    "plt.show()"
   ]
  },
  {
   "cell_type": "markdown",
   "id": "eb3046a9",
   "metadata": {},
   "source": [
    "### Multiple histograms"
   ]
  },
  {
   "cell_type": "code",
   "execution_count": null,
   "id": "37e369e1",
   "metadata": {},
   "outputs": [],
   "source": [
    "res2 = np.random.randn(1000)*0.2 + 0.4\n",
    "plt.hist(res, bins=30, density=True, histtype='step')\n",
    "plt.hist(res2, bins=30, density=True, histtype='step')\n",
    "plt.show()"
   ]
  },
  {
   "cell_type": "markdown",
   "id": "cbe46688",
   "metadata": {},
   "source": [
    "## Advanced API\n",
    "More complicated plots such as\n",
    "- Multiple subplots on one figure\n",
    "- Conveniently adding text to plots\n",
    "- Creating animations"
   ]
  },
  {
   "cell_type": "code",
   "execution_count": null,
   "id": "01a1dd1c",
   "metadata": {},
   "outputs": [],
   "source": [
    "fig, ax = plt.subplots(1, 2, figsize=(12,4))\n",
    "# ?plt.subplots\n",
    "# plt.subplots(row, columns)"
   ]
  },
  {
   "cell_type": "code",
   "execution_count": null,
   "id": "682032eb",
   "metadata": {},
   "outputs": [],
   "source": [
    "fig, ax = plt.subplots(1, 2, figsize=(12,4))\n",
    "ax[0].plot(x, y, '-')\n",
    "ax[1].hist(res)\n",
    "ax[0].set_ylabel('Voltage [V]')\n",
    "ax[0].set_xlabel('Time [t]')\n",
    "ax[1].set_ylabel('Count')\n",
    "ax[1].set_xlabel('State')\n",
    "ax[0].text(0.1, 0.1, 'Threshold') # x, y, text\n",
    "ax[1].text(0.1, 0.1, 'Threshold', transform=ax[1].transAxes) # scales the x and y"
   ]
  },
  {
   "cell_type": "code",
   "execution_count": null,
   "id": "2756ecfc",
   "metadata": {},
   "outputs": [],
   "source": [
    "fig, ax = plt.subplots(3, 2, figsize=(12,12))\n",
    "ax[0][0].plot(x, y, '-')\n",
    "ax[1][1].hist(res)\n",
    "ax[2][0].hist(res2)\n",
    "ax[0][0].set_title('Component')\n",
    "ax[1][1].set_title('Quantum States')\n",
    "ax[2][0].set_title('Stimulus')\n",
    "ax[0][0].set_ylabel('Voltage [V]')\n",
    "ax[0][0].set_xlabel('Time [t]')\n",
    "ax[1][1].set_ylabel('Count')\n",
    "ax[1][1].set_xlabel('State')\n",
    "ax[2][0].set_ylabel('Frequency')\n",
    "ax[2][0].set_xlabel('Spike')"
   ]
  },
  {
   "cell_type": "code",
   "execution_count": null,
   "id": "31521e15",
   "metadata": {},
   "outputs": [],
   "source": [
    "fig, ax = plt.subplots(1, 2, figsize=(12,4))\n",
    "ax[0].plot(x, y, '-')\n",
    "ax[1].hist(res)\n",
    "ax[0].set_ylabel('Voltage [V]')\n",
    "ax[1].set_ylabel('Count')\n",
    "ax[0].text(0.1, 0.1, 'Threshold') # x, y, text\n",
    "ax[1].text(0.1, 0.1, 'Threshold', transform=ax[1].transAxes) # scales the x and y\n",
    "ax[0].tick_params(axis='both', labelsize=10, labelcolor='w')\n",
    "ax[1].tick_params(axis='both', labelsize=10, labelcolor='w')\n",
    "ax[0].xaxis.label.set_color('w')\n",
    "ax[0].yaxis.label.set_color('w')\n",
    "ax[1].xaxis.label.set_color('w')\n",
    "ax[1].yaxis.label.set_color('w')\n",
    "ax[0].text(1.1, -0.4, '$\\Delta E$ [Joules]',transform=ax[0].transAxes, ha='center', fontsize=20, color='w')\n",
    "ax[1].text(0.1, 0.5, 'Text',transform=ax[1].transAxes, bbox=dict(facecolor='w', edgecolor='black'))"
   ]
  },
  {
   "cell_type": "markdown",
   "id": "d125a8b8",
   "metadata": {},
   "source": [
    "## 2D plots"
   ]
  },
  {
   "cell_type": "markdown",
   "id": "5f521dee",
   "metadata": {},
   "source": [
    "### Contour Plots"
   ]
  },
  {
   "cell_type": "code",
   "execution_count": null,
   "id": "2ae86b04",
   "metadata": {},
   "outputs": [],
   "source": [
    "# generate data\n",
    "\n",
    "x = np.linspace(-1, 1, 100)\n",
    "y = np.linspace(-1, 1, 100)\n",
    "xv, yv = np.meshgrid(x, y)\n",
    "z = xv**2 + xv*yv"
   ]
  },
  {
   "cell_type": "code",
   "execution_count": null,
   "id": "6e537e8e",
   "metadata": {},
   "outputs": [],
   "source": [
    "plt.contourf(xv,yv,z, levels=30)\n",
    "plt.colorbar()\n",
    "plt.show()"
   ]
  },
  {
   "cell_type": "code",
   "execution_count": null,
   "id": "9623b109",
   "metadata": {},
   "outputs": [],
   "source": [
    "plt.contourf(xv,yv,z, levels=30, vmin=0.48, vmax=1.68)\n",
    "plt.colorbar()\n",
    "plt.show()"
   ]
  },
  {
   "cell_type": "code",
   "execution_count": null,
   "id": "f71a22b6",
   "metadata": {},
   "outputs": [],
   "source": [
    "plt.contourf(xv,yv,z, levels=30, vmin=0.48, vmax=1.68, cmap='plasma')\n",
    "plt.colorbar()\n",
    "plt.show()"
   ]
  },
  {
   "cell_type": "code",
   "execution_count": null,
   "id": "e3ee56a6",
   "metadata": {},
   "outputs": [],
   "source": [
    "plt.contour(xv,yv,z, levels=30)\n",
    "plt.show()"
   ]
  },
  {
   "cell_type": "code",
   "execution_count": null,
   "id": "aad38a13",
   "metadata": {},
   "outputs": [],
   "source": [
    "cs = plt.contour(xv,yv,z, levels=20)\n",
    "plt.clabel(cs, fontsize=8)\n",
    "plt.show()"
   ]
  },
  {
   "cell_type": "markdown",
   "id": "fda538f9",
   "metadata": {},
   "source": [
    "## 3D surface plot\n",
    "Generally not preferred. However, works well in animations"
   ]
  },
  {
   "cell_type": "code",
   "execution_count": null,
   "id": "15591fc1",
   "metadata": {},
   "outputs": [],
   "source": [
    "fig, ax = plt.subplots(subplot_kw={'projection': '3d'})"
   ]
  },
  {
   "cell_type": "code",
   "execution_count": null,
   "id": "7f46fc82",
   "metadata": {},
   "outputs": [],
   "source": [
    "fig, ax = plt.subplots(subplot_kw={'projection': '3d'})\n",
    "ax.plot_surface(xv, yv, z, cmap='coolwarm')"
   ]
  },
  {
   "cell_type": "markdown",
   "id": "c0272a85",
   "metadata": {},
   "source": [
    "## Stream Plots"
   ]
  },
  {
   "cell_type": "code",
   "execution_count": null,
   "id": "62546479",
   "metadata": {},
   "outputs": [],
   "source": [
    "w = 3\n",
    "_ = np.linspace(-3, 3, 100)\n",
    "X, Y = np.meshgrid(_, _)\n",
    "U = -1 - X**2 + Y\n",
    "V = 1 + X - Y**2\n",
    "speed = np.sqrt(U**2, V**2)"
   ]
  },
  {
   "cell_type": "code",
   "execution_count": null,
   "id": "03fa32da",
   "metadata": {},
   "outputs": [],
   "source": [
    "fig, axes = plt.subplots(2, 2, figsize=(10, 10))\n",
    "axes[0][0].streamplot(X, Y, U, V)\n",
    "\n",
    "# color based on speed\n",
    "axes[0][1].streamplot(X, Y, U, V, color=speed)\n",
    "\n",
    "# linewidth based on speed\n",
    "lw = 5*speed/speed.max()\n",
    "axes[1][0].streamplot(X, Y, U, V, linewidth=lw)\n",
    "\n",
    "# flow\n",
    "seedpoints = np.array([[0, 1], [1, 0]])\n",
    "axes[1][1].streamplot(X, Y, U, V, start_points=seedpoints)"
   ]
  },
  {
   "cell_type": "markdown",
   "id": "7ec94a89",
   "metadata": {},
   "source": [
    "## Images"
   ]
  },
  {
   "cell_type": "code",
   "execution_count": null,
   "id": "82c25605",
   "metadata": {},
   "outputs": [],
   "source": [
    "img = plt.imread('./flower.png')\n",
    "img"
   ]
  },
  {
   "cell_type": "code",
   "execution_count": null,
   "id": "123e73c2",
   "metadata": {},
   "outputs": [],
   "source": [
    "plt.imshow(img)"
   ]
  },
  {
   "cell_type": "markdown",
   "id": "3d8b37a6",
   "metadata": {},
   "source": [
    "## Animations"
   ]
  },
  {
   "cell_type": "code",
   "execution_count": null,
   "id": "ddf54abf",
   "metadata": {},
   "outputs": [],
   "source": [
    "def f(x, t):\n",
    "    return np.sin(x - 3*t)\n",
    "x = np.linspace(0, 10*np.pi, 1000)"
   ]
  },
  {
   "cell_type": "code",
   "execution_count": null,
   "id": "f2e542b9",
   "metadata": {},
   "outputs": [],
   "source": [
    "plt.plot(x, f(x, 0), label='t=0.1')\n",
    "plt.plot(x, f(x, 0.1), label='t=0.2')\n",
    "plt.plot(x, f(x, 0.2),label='t=0.3')\n",
    "plt.legend(loc=(1,1))"
   ]
  },
  {
   "cell_type": "code",
   "execution_count": null,
   "id": "5f6db530",
   "metadata": {},
   "outputs": [],
   "source": [
    "from matplotlib import animation\n",
    "from matplotlib.animation import PillowWriter"
   ]
  },
  {
   "cell_type": "code",
   "execution_count": null,
   "id": "6bf6415e",
   "metadata": {},
   "outputs": [],
   "source": [
    "fig, ax = plt.subplots(1, 1, figsize=(8, 4))\n",
    "ln1, = plt.plot([],[])\n",
    "time_text = ax.text(0.65, 0.95, '', fontsize=15, transform=ax.transAxes, bbox={'facecolor': 'white', 'edgecolor': 'black'})\n",
    "ax.set_xlim(0, 10*np.pi)\n",
    "ax.set_ylim(-1.5, 1.5)\n",
    "fps = 50\n",
    "def animate(i):\n",
    "    ln1.set_data(x, f(x, i/fps))\n",
    "    time_text.set_text('t={:.2f}'.format(i/fps))\n",
    "\n",
    "ani = animation.FuncAnimation(fig, animate, frames=240, interval = 50)\n",
    "ani.save('./ani.gif', writer='pillow', fps=fps, dpi=100)"
   ]
  },
  {
   "cell_type": "code",
   "execution_count": null,
   "id": "0a988c51",
   "metadata": {},
   "outputs": [],
   "source": [
    "# generate data\n",
    "\n",
    "x = np.linspace(-1, 1, 100)\n",
    "y = np.linspace(-1, 1, 100)\n",
    "xv, yv = np.meshgrid(x, y)\n",
    "z = xv**2 + xv*yv"
   ]
  },
  {
   "cell_type": "code",
   "execution_count": null,
   "id": "af23bf3f",
   "metadata": {},
   "outputs": [],
   "source": [
    "plt.style.use(['default'])"
   ]
  },
  {
   "cell_type": "code",
   "execution_count": null,
   "id": "1e23945a",
   "metadata": {},
   "outputs": [],
   "source": [
    "fig, ax = plt.subplots(subplot_kw={'projection': '3d'})\n",
    "\n",
    "ax.plot_surface(xv, yv, z, cmap='coolwarm', linewidth=0, antialiased=False)\n",
    "\n",
    "ax.view_init(elev=10, azim=0) # degrees\n",
    "\n",
    "fps=30\n",
    "\n",
    "def animate(i):\n",
    "    ax.view_init(elev=10, azim=3*i)\n",
    "\n",
    "ani = animation.FuncAnimation(fig, animate, frames=120, interval = 50)\n",
    "ani.save('./ani2.gif', writer='pillow', fps=fps, dpi=100)"
   ]
  },
  {
   "cell_type": "markdown",
   "id": "f837d9ce",
   "metadata": {},
   "source": [
    "## To save\n",
    "```\n",
    "plt.savefile(filename, dpi=200) # 200 is good\n",
    "```"
   ]
  }
 ],
 "metadata": {
  "kernelspec": {
   "display_name": "Python 3 (ipykernel)",
   "language": "python",
   "name": "python3"
  },
  "language_info": {
   "codemirror_mode": {
    "name": "ipython",
    "version": 3
   },
   "file_extension": ".py",
   "mimetype": "text/x-python",
   "name": "python",
   "nbconvert_exporter": "python",
   "pygments_lexer": "ipython3",
   "version": "3.10.3"
  }
 },
 "nbformat": 4,
 "nbformat_minor": 5
}
