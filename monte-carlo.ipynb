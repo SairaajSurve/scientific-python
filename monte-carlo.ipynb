{
 "cells": [
  {
   "cell_type": "code",
   "execution_count": 2,
   "metadata": {},
   "outputs": [],
   "source": [
    "import numpy as np\n",
    "import matplotlib.pyplot as plt"
   ]
  },
  {
   "cell_type": "code",
   "execution_count": 41,
   "metadata": {},
   "outputs": [
    {
     "name": "stdout",
     "output_type": "stream",
     "text": [
      "PI = 3.1719999999999997\n"
     ]
    },
    {
     "data": {
      "image/png": "[encoded data removed]",
      "text/plain": [
       "<Figure size 432x288 with 1 Axes>"
      ]
     },
     "metadata": {
      "needs_background": "light"
     },
     "output_type": "display_data"
    }
   ],
   "source": [
    "###### VARIABLES #################\n",
    "\n",
    "a = 5\n",
    "N = 1000\n",
    "\n",
    "############# SETUP #######################\n",
    "\n",
    "axis = np.linspace(-10, 10, N)\n",
    "theta = np.linspace(0, 2*np.pi, N)\n",
    "\n",
    "A = np.ones(N)*a\n",
    "r = a*(np.sin(theta)**2+np.cos(theta)**2)\n",
    "xc = r*np.cos(theta)\n",
    "yc = r*np.sin(theta)\n",
    "\n",
    "############## SIMULATION ################\n",
    "number_of_trials = 1000\n",
    "monte_carlo_x = np.random.uniform(-a, a, number_of_trials)\n",
    "monte_carlo_y = np.random.uniform(-a, a, number_of_trials)\n",
    "\n",
    "r = np.sqrt(monte_carlo_y**2 + monte_carlo_x**2)\n",
    "\n",
    "success = r[r < a]\n",
    "probability = len(success)/number_of_trials\n",
    "\n",
    "PI = (probability*(a*2)**2)/(a**2)\n",
    "# prob = area of circle / area of square\n",
    "print(f'PI = {PI}')\n",
    "\n",
    "############## GRAPH ####################\n",
    "\n",
    "plt.plot(axis, A)\n",
    "plt.plot(axis, -A)\n",
    "plt.plot(-A, axis)\n",
    "plt.plot(A, axis)\n",
    "plt.plot(xc, yc)\n",
    "\n",
    "## CHECK THE NUMBER OF TRIALS\n",
    "# plt.scatter(monte_carlo_x, monte_carlo_y, c=\"blue\")\n",
    "# plt.scatter(monte_carlo_x[r < a], monte_carlo_y[r < a], c=\"red\")\n",
    "plt.show()"
   ]
  }
 ],
 "metadata": {
  "kernelspec": {
   "display_name": "Python 3.10.3 64-bit",
   "language": "python",
   "name": "python3"
  },
  "language_info": {
   "codemirror_mode": {
    "name": "ipython",
    "version": 3
   },
   "file_extension": ".py",
   "mimetype": "text/x-python",
   "name": "python",
   "nbconvert_exporter": "python",
   "pygments_lexer": "ipython3",
   "version": "3.10.3"
  },
  "orig_nbformat": 4,
  "vscode": {
   "interpreter": {
    "hash": "641aafc79017f99983c356d8d5e1703b7e6c8c201f432794c52a03b41bb834ee"
   }
  }
 },
 "nbformat": 4,
 "nbformat_minor": 2
}
