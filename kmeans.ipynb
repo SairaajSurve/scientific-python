{
 "cells": [
  {
   "cell_type": "code",
   "execution_count": 67,
   "metadata": {},
   "outputs": [],
   "source": [
    "import numpy as np"
   ]
  },
  {
   "cell_type": "code",
   "execution_count": 68,
   "metadata": {},
   "outputs": [],
   "source": [
    "points = np.array([\n",
    "    [185,72],\n",
    "    [170,56],\n",
    "    [168,60],\n",
    "    [179,68],\n",
    "    [182,72],\n",
    "    [188,77],\n",
    "    [180,71],\n",
    "    [180,70],\n",
    "    [183,84],\n",
    "    [180,88],\n",
    "    [180,67],\n",
    "    [177,76]\n",
    "])"
   ]
  },
  {
   "cell_type": "code",
   "execution_count": 69,
   "metadata": {},
   "outputs": [],
   "source": [
    "def dis(p1, p2):\n",
    "    return ((p1[0]-p2[0])**2 + (p1[1]-p2[1])**2)**0.5\n",
    "\n",
    "def cen(p1, p2):\n",
    "    return [(p1[0]+p2[0])/2,(p1[1]+p2[1])/2]"
   ]
  },
  {
   "cell_type": "code",
   "execution_count": 70,
   "metadata": {},
   "outputs": [],
   "source": [
    "k1 = points[0]\n",
    "k2 = points[1]\n",
    "sk1 = set()\n",
    "sk2 = set()\n",
    "sk1.add(1)\n",
    "sk2.add(2)"
   ]
  },
  {
   "cell_type": "code",
   "execution_count": 71,
   "metadata": {},
   "outputs": [
    {
     "name": "stdout",
     "output_type": "stream",
     "text": [
      "i: 2\tk1: [185  72]\tk2[169.0, 58.0]\n",
      "i: 3\tk1: [182.0, 70.0]\tk2[169.0, 58.0]\n",
      "i: 4\tk1: [182.0, 71.0]\tk2[169.0, 58.0]\n",
      "i: 5\tk1: [185.0, 74.0]\tk2[169.0, 58.0]\n",
      "i: 6\tk1: [182.5, 72.5]\tk2[169.0, 58.0]\n",
      "i: 7\tk1: [181.25, 71.25]\tk2[169.0, 58.0]\n",
      "i: 8\tk1: [182.125, 77.625]\tk2[169.0, 58.0]\n",
      "i: 9\tk1: [181.0625, 82.8125]\tk2[169.0, 58.0]\n",
      "i: 10\tk1: [181.0625, 82.8125]\tk2[174.5, 62.5]\n",
      "i: 11\tk1: [179.03125, 79.40625]\tk2[174.5, 62.5]\n"
     ]
    }
   ],
   "source": [
    "for i in range(2, len(points)):\n",
    "    d1 = dis(points[i], k1)\n",
    "    d2 = dis(points[i], k2)\n",
    "    if d1 <= d2:\n",
    "        sk1.add(i+1)\n",
    "        k1 = cen(k1, points[i])\n",
    "    else:\n",
    "        sk2.add(i+1)\n",
    "        k2 = cen(k2, points[i])\n",
    "    print(f'i: {i}\\tk1: {k1}\\tk2{k2}')"
   ]
  },
  {
   "cell_type": "code",
   "execution_count": 72,
   "metadata": {},
   "outputs": [
    {
     "data": {
      "text/plain": [
       "{1, 4, 5, 6, 7, 8, 9, 10, 12}"
      ]
     },
     "execution_count": 72,
     "metadata": {},
     "output_type": "execute_result"
    }
   ],
   "source": [
    "sk1"
   ]
  },
  {
   "cell_type": "code",
   "execution_count": 73,
   "metadata": {},
   "outputs": [
    {
     "data": {
      "text/plain": [
       "{2, 3, 11}"
      ]
     },
     "execution_count": 73,
     "metadata": {},
     "output_type": "execute_result"
    }
   ],
   "source": [
    "sk2"
   ]
  }
 ],
 "metadata": {
  "kernelspec": {
   "display_name": "Python 3",
   "language": "python",
   "name": "python3"
  },
  "language_info": {
   "codemirror_mode": {
    "name": "ipython",
    "version": 3
   },
   "file_extension": ".py",
   "mimetype": "text/x-python",
   "name": "python",
   "nbconvert_exporter": "python",
   "pygments_lexer": "ipython3",
   "version": "3.10.8"
  },
  "orig_nbformat": 4,
  "vscode": {
   "interpreter": {
    "hash": "5d50a6c465b30638282eab4bf928a91781f77c490aac1f6912f323b30ec812af"
   }
  }
 },
 "nbformat": 4,
 "nbformat_minor": 2
}
